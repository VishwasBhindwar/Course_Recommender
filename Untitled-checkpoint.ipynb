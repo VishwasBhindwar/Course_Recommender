{
 "cells": [
  {
   "cell_type": "code",
   "execution_count": null,
   "id": "254b5be1-3fb4-4fd0-854d-0c6f1d83341d",
   "metadata": {},
   "outputs": [],
   "source": [
    "import os\n",
    "import pickle\n",
    "import streamlit as st\n",
    "import matplotlib.pyplot as plt\n",
    "import numpy as np\n",
    "import pandas as pd\n",
    "import requests\n",
    "\n",
    "# <==== Code starts here ====>\n",
    "\n",
    "courses_list = pickle.load(open('courses.pkl','rb'))\n",
    "similarity = pickle.load(open('similarity.pkl','rb'))\n",
    "\n",
    "def recommend(course):\n",
    "    index = courses_list[courses_list['course_name'] == course].index[0]\n",
    "    distances = sorted(list(enumerate(similarity[index])), reverse=True, key=lambda x: x[1])\n",
    "    recommended_course_names = []\n",
    "    for i in distances[1:7]:\n",
    "        course_name = courses_list.iloc[i[0]].course_name\n",
    "        recommended_course_names.append(course_name)\n",
    "\n",
    "    return recommended_course_names\n",
    "\n",
    "st.markdown(\"<h2 style='text-align: center; color: blue;'>Coursera Course Recommendation System</h2>\", unsafe_allow_html=True)\n",
    "\n",
    "st.markdown(\"<h4 style='text-align: center; color: black;'>Web App created by Vishwas Bhindwar</h4>\", unsafe_allow_html=True)\n",
    "\n",
    "course_list = courses_list['course_name'].values\n",
    "selected_course = st.selectbox(\n",
    "    \"Type or select a course you like :\",\n",
    "    courses_list\n",
    ")\n",
    "\n",
    "if st.button('Show Recommended Courses'):\n",
    "    st.write(\"Recommended Courses based on your interests are :\")\n",
    "    recommended_course_names = recommend(selected_course)\n",
    "    st.text(recommended_course_names[0])\n",
    "    st.text(recommended_course_names[1])\n",
    "    st.text(recommended_course_names[2])\n",
    "    st.text(recommended_course_names[3])\n",
    "    st.text(recommended_course_names[4])\n",
    "    st.text(recommended_course_names[5])\n",
    "    st.text(\" \")\n",
    "    st.markdown(\"<h6 style='text-align: center; color: red;'>Copyright reserved by Coursera and Respective Course Owners</h6>\", unsafe_allow_html=True)\n",
    "\n",
    "# <==== Code ends here ====>"
   ]
  }
 ],
 "metadata": {
  "kernelspec": {
   "display_name": "Python 3 (ipykernel)",
   "language": "python",
   "name": "python3"
  },
  "language_info": {
   "codemirror_mode": {
    "name": "ipython",
    "version": 3
   },
   "file_extension": ".py",
   "mimetype": "text/x-python",
   "name": "python",
   "nbconvert_exporter": "python",
   "pygments_lexer": "ipython3",
   "version": "3.10.9"
  }
 },
 "nbformat": 4,
 "nbformat_minor": 5
}
